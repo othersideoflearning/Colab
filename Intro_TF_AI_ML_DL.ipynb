{
  "nbformat": 4,
  "nbformat_minor": 0,
  "metadata": {
    "colab": {
      "name": "Untitled0.ipynb",
      "version": "0.3.2",
      "provenance": [],
      "include_colab_link": true
    },
    "kernelspec": {
      "name": "python3",
      "display_name": "Python 3"
    },
    "accelerator": "GPU"
  },
  "cells": [
    {
      "cell_type": "markdown",
      "metadata": {
        "id": "view-in-github",
        "colab_type": "text"
      },
      "source": [
        "<a href=\"https://colab.research.google.com/github/othersideoflearning/Colab/blob/master/Intro_TF_AI_ML_DL.ipynb\" target=\"_parent\"><img src=\"https://colab.research.google.com/assets/colab-badge.svg\" alt=\"Open In Colab\"/></a>"
      ]
    },
    {
      "cell_type": "code",
      "metadata": {
        "id": "rKNF4vM_NXv9",
        "colab_type": "code",
        "colab": {
          "base_uri": "https://localhost:8080/",
          "height": 34
        },
        "outputId": "0fdb471d-f2c7-4657-e01d-629c4d694e70"
      },
      "source": [
        "import tensorflow as tf\n",
        "tf.__version__"
      ],
      "execution_count": 1,
      "outputs": [
        {
          "output_type": "execute_result",
          "data": {
            "text/plain": [
              "'1.14.0'"
            ]
          },
          "metadata": {
            "tags": []
          },
          "execution_count": 1
        }
      ]
    },
    {
      "cell_type": "code",
      "metadata": {
        "id": "ASpj4l5vNfmI",
        "colab_type": "code",
        "colab": {}
      },
      "source": [
        "from tensorflow import keras"
      ],
      "execution_count": 0,
      "outputs": []
    },
    {
      "cell_type": "code",
      "metadata": {
        "id": "cLIRGifMOCOG",
        "colab_type": "code",
        "colab": {
          "base_uri": "https://localhost:8080/",
          "height": 50
        },
        "outputId": "0851767e-b073-4bd4-dc15-c876d20fc6de"
      },
      "source": [
        "mnist = keras.datasets.mnist\n",
        "(train_images, train_labels),(test_images, test_lables) = mnist.load_data()"
      ],
      "execution_count": 3,
      "outputs": [
        {
          "output_type": "stream",
          "text": [
            "Downloading data from https://storage.googleapis.com/tensorflow/tf-keras-datasets/mnist.npz\n",
            "11493376/11490434 [==============================] - 0s 0us/step\n"
          ],
          "name": "stdout"
        }
      ]
    },
    {
      "cell_type": "code",
      "metadata": {
        "id": "YC-yFISFOSlv",
        "colab_type": "code",
        "colab": {}
      },
      "source": [
        "# len(train_images),len(train_labels),len(test_images),len(test_lables)"
      ],
      "execution_count": 0,
      "outputs": []
    },
    {
      "cell_type": "code",
      "metadata": {
        "id": "DCk3KCnWOe3K",
        "colab_type": "code",
        "colab": {}
      },
      "source": [
        "train_images = train_images/255\n",
        "test_images = test_images/255"
      ],
      "execution_count": 0,
      "outputs": []
    },
    {
      "cell_type": "code",
      "metadata": {
        "id": "8HpXe2QjPPah",
        "colab_type": "code",
        "colab": {
          "base_uri": "https://localhost:8080/",
          "height": 289
        },
        "outputId": "da71813c-dc64-4be3-8e95-8b43e34566fc"
      },
      "source": [
        "model = keras.Sequential([\n",
        "    keras.layers.Flatten(),\n",
        "    keras.layers.Dense(128, activation=tf.nn.relu),\n",
        "    keras.layers.Dense(10, activation=tf.nn.softmax)\n",
        "    \n",
        "])\n",
        "model.compile(optimizer='adam', loss='sparse_categorical_crossentropy', metrics=['accuracy'])\n",
        "model.fit(train_images, train_labels, epochs=5)"
      ],
      "execution_count": 6,
      "outputs": [
        {
          "output_type": "stream",
          "text": [
            "WARNING: Logging before flag parsing goes to stderr.\n",
            "W0817 15:48:53.477390 139630169126784 deprecation.py:506] From /usr/local/lib/python3.6/dist-packages/tensorflow/python/ops/init_ops.py:1251: calling VarianceScaling.__init__ (from tensorflow.python.ops.init_ops) with dtype is deprecated and will be removed in a future version.\n",
            "Instructions for updating:\n",
            "Call initializer instance with the dtype argument instead of passing it to the constructor\n"
          ],
          "name": "stderr"
        },
        {
          "output_type": "stream",
          "text": [
            "Epoch 1/5\n",
            "60000/60000 [==============================] - 5s 89us/sample - loss: 0.2508 - acc: 0.9287\n",
            "Epoch 2/5\n",
            "60000/60000 [==============================] - 5s 84us/sample - loss: 0.1109 - acc: 0.9669\n",
            "Epoch 3/5\n",
            "60000/60000 [==============================] - 5s 85us/sample - loss: 0.0781 - acc: 0.9762\n",
            "Epoch 4/5\n",
            "60000/60000 [==============================] - 5s 86us/sample - loss: 0.0589 - acc: 0.9819\n",
            "Epoch 5/5\n",
            "60000/60000 [==============================] - 5s 85us/sample - loss: 0.0465 - acc: 0.9858\n"
          ],
          "name": "stdout"
        },
        {
          "output_type": "execute_result",
          "data": {
            "text/plain": [
              "<tensorflow.python.keras.callbacks.History at 0x7efde35e4668>"
            ]
          },
          "metadata": {
            "tags": []
          },
          "execution_count": 6
        }
      ]
    },
    {
      "cell_type": "code",
      "metadata": {
        "id": "tkFyViHRQSqM",
        "colab_type": "code",
        "colab": {
          "base_uri": "https://localhost:8080/",
          "height": 34
        },
        "outputId": "dd10f2d9-1206-4f0f-913a-fa8d4eefa7ea"
      },
      "source": [
        "test_loss = model.evaluate(test_images, test_lables)"
      ],
      "execution_count": 7,
      "outputs": [
        {
          "output_type": "stream",
          "text": [
            "10000/10000 [==============================] - 1s 60us/sample - loss: 0.0756 - acc: 0.9771\n"
          ],
          "name": "stdout"
        }
      ]
    },
    {
      "cell_type": "markdown",
      "metadata": {
        "id": "kPP30GmNT1K1",
        "colab_type": "text"
      },
      "source": [
        "Using Convolutional"
      ]
    },
    {
      "cell_type": "code",
      "metadata": {
        "id": "AeVlAQCeT5IU",
        "colab_type": "code",
        "colab": {}
      },
      "source": [
        "train_images=train_images.reshape(60000,28,28,1)\n",
        "test_images= test_images.reshape(10000,28,28,1)"
      ],
      "execution_count": 0,
      "outputs": []
    },
    {
      "cell_type": "code",
      "metadata": {
        "id": "7cHai9xtRVSv",
        "colab_type": "code",
        "colab": {
          "base_uri": "https://localhost:8080/",
          "height": 386
        },
        "outputId": "80245f06-8123-467c-83a3-85e6fee2e8be"
      },
      "source": [
        "model1 = keras.Sequential([\n",
        "    keras.layers.Conv2D(64, (3,3), activation='relu', input_shape=(28,28,1)),\n",
        "    keras.layers.MaxPooling2D(2,2),\n",
        "    keras.layers.Conv2D(64, (3,3), activation='relu'),\n",
        "    keras.layers.MaxPooling2D(2,2),\n",
        "    keras.layers.Flatten(),\n",
        "    keras.layers.Dense(128, activation='relu'),\n",
        "    keras.layers.Dense(10, activation='softmax')    \n",
        "])\n",
        "\n",
        "model1.compile(optimizer='adam', loss='sparse_categorical_crossentropy', metrics=['accuracy'])\n",
        "model1.summary()"
      ],
      "execution_count": 13,
      "outputs": [
        {
          "output_type": "stream",
          "text": [
            "Model: \"sequential_2\"\n",
            "_________________________________________________________________\n",
            "Layer (type)                 Output Shape              Param #   \n",
            "=================================================================\n",
            "conv2d_2 (Conv2D)            (None, 26, 26, 64)        640       \n",
            "_________________________________________________________________\n",
            "max_pooling2d_2 (MaxPooling2 (None, 13, 13, 64)        0         \n",
            "_________________________________________________________________\n",
            "conv2d_3 (Conv2D)            (None, 11, 11, 64)        36928     \n",
            "_________________________________________________________________\n",
            "max_pooling2d_3 (MaxPooling2 (None, 5, 5, 64)          0         \n",
            "_________________________________________________________________\n",
            "flatten_2 (Flatten)          (None, 1600)              0         \n",
            "_________________________________________________________________\n",
            "dense_4 (Dense)              (None, 128)               204928    \n",
            "_________________________________________________________________\n",
            "dense_5 (Dense)              (None, 10)                1290      \n",
            "=================================================================\n",
            "Total params: 243,786\n",
            "Trainable params: 243,786\n",
            "Non-trainable params: 0\n",
            "_________________________________________________________________\n"
          ],
          "name": "stdout"
        }
      ]
    },
    {
      "cell_type": "code",
      "metadata": {
        "id": "2YfDpCWATWDr",
        "colab_type": "code",
        "colab": {
          "base_uri": "https://localhost:8080/",
          "height": 302
        },
        "outputId": "0797c713-32df-46bc-9a78-ebeb70dd6131"
      },
      "source": [
        "model1.fit(train_images, train_labels, epochs=8)\n",
        "test_loss= model1.evaluate(test_images, test_lables)"
      ],
      "execution_count": 14,
      "outputs": [
        {
          "output_type": "stream",
          "text": [
            "Epoch 1/8\n",
            "60000/60000 [==============================] - 15s 242us/sample - loss: 0.1239 - acc: 0.9622\n",
            "Epoch 2/8\n",
            "60000/60000 [==============================] - 12s 202us/sample - loss: 0.0421 - acc: 0.9867\n",
            "Epoch 3/8\n",
            "60000/60000 [==============================] - 12s 202us/sample - loss: 0.0270 - acc: 0.9915\n",
            "Epoch 4/8\n",
            "60000/60000 [==============================] - 12s 202us/sample - loss: 0.0196 - acc: 0.9936\n",
            "Epoch 5/8\n",
            "60000/60000 [==============================] - 12s 202us/sample - loss: 0.0156 - acc: 0.9947\n",
            "Epoch 6/8\n",
            "60000/60000 [==============================] - 12s 202us/sample - loss: 0.0122 - acc: 0.9960\n",
            "Epoch 7/8\n",
            "60000/60000 [==============================] - 12s 202us/sample - loss: 0.0099 - acc: 0.9969\n",
            "Epoch 8/8\n",
            "60000/60000 [==============================] - 12s 204us/sample - loss: 0.0080 - acc: 0.9974\n",
            "10000/10000 [==============================] - 1s 100us/sample - loss: 0.0324 - acc: 0.9908\n"
          ],
          "name": "stdout"
        }
      ]
    },
    {
      "cell_type": "code",
      "metadata": {
        "id": "sgCqJ8L-ToaM",
        "colab_type": "code",
        "colab": {
          "base_uri": "https://localhost:8080/",
          "height": 386
        },
        "outputId": "d48a99d7-108f-4628-af35-044b30504712"
      },
      "source": [
        "mnist = tf.keras.datasets.mnist\n",
        "(training_images, training_labels), (test_images, test_labels) = mnist.load_data()\n",
        "training_images=training_images.reshape(60000, 28, 28, 1)\n",
        "training_images=training_images / 255.0\n",
        "test_images = test_images.reshape(10000, 28, 28, 1)\n",
        "test_images=test_images/255.0\n",
        "model2 = tf.keras.models.Sequential([\n",
        "  tf.keras.layers.Conv2D(32, (3,3), activation='relu', input_shape=(28, 28, 1)),\n",
        "  tf.keras.layers.MaxPooling2D(2, 2),\n",
        "  tf.keras.layers.Flatten(),\n",
        "  tf.keras.layers.Dense(128, activation='relu'),\n",
        "  tf.keras.layers.Dense(10, activation='softmax')\n",
        "])\n",
        "model2.compile(optimizer='adam', loss='sparse_categorical_crossentropy', metrics=['accuracy'])\n",
        "model2.fit(training_images, training_labels, epochs=10)\n",
        "test_loss, test_acc = model2.evaluate(test_images, test_labels)\n",
        "print(test_acc)"
      ],
      "execution_count": 15,
      "outputs": [
        {
          "output_type": "stream",
          "text": [
            "Epoch 1/10\n",
            "60000/60000 [==============================] - 9s 143us/sample - loss: 0.1470 - acc: 0.9564\n",
            "Epoch 2/10\n",
            "60000/60000 [==============================] - 9s 142us/sample - loss: 0.0498 - acc: 0.9851\n",
            "Epoch 3/10\n",
            "60000/60000 [==============================] - 9s 142us/sample - loss: 0.0313 - acc: 0.9900\n",
            "Epoch 4/10\n",
            "60000/60000 [==============================] - 9s 143us/sample - loss: 0.0206 - acc: 0.9934\n",
            "Epoch 5/10\n",
            "60000/60000 [==============================] - 9s 143us/sample - loss: 0.0139 - acc: 0.9956\n",
            "Epoch 6/10\n",
            "60000/60000 [==============================] - 9s 142us/sample - loss: 0.0099 - acc: 0.9967\n",
            "Epoch 7/10\n",
            "60000/60000 [==============================] - 9s 143us/sample - loss: 0.0063 - acc: 0.9979\n",
            "Epoch 8/10\n",
            "60000/60000 [==============================] - 8s 141us/sample - loss: 0.0076 - acc: 0.9974\n",
            "Epoch 9/10\n",
            "60000/60000 [==============================] - 9s 142us/sample - loss: 0.0051 - acc: 0.9982\n",
            "Epoch 10/10\n",
            "60000/60000 [==============================] - 9s 143us/sample - loss: 0.0037 - acc: 0.9987\n",
            "10000/10000 [==============================] - 1s 79us/sample - loss: 0.0543 - acc: 0.9880\n",
            "0.988\n"
          ],
          "name": "stdout"
        }
      ]
    },
    {
      "cell_type": "code",
      "metadata": {
        "id": "Z1Ys9bCgVXhh",
        "colab_type": "code",
        "colab": {}
      },
      "source": [
        ""
      ],
      "execution_count": 0,
      "outputs": []
    }
  ]
}